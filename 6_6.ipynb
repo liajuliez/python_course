{
  "nbformat": 4,
  "nbformat_minor": 0,
  "metadata": {
    "colab": {
      "provenance": [],
      "authorship_tag": "ABX9TyMlL/V552ole1R2ksc2JSd0",
      "include_colab_link": true
    },
    "kernelspec": {
      "name": "python3",
      "display_name": "Python 3"
    },
    "language_info": {
      "name": "python"
    }
  },
  "cells": [
    {
      "cell_type": "markdown",
      "metadata": {
        "id": "view-in-github",
        "colab_type": "text"
      },
      "source": [
        "<a href=\"https://colab.research.google.com/github/liajuliez/python_course/blob/main/6_6.ipynb\" target=\"_parent\"><img src=\"https://colab.research.google.com/assets/colab-badge.svg\" alt=\"Open In Colab\"/></a>"
      ]
    },
    {
      "cell_type": "code",
      "source": [
        "def longest_word(file_name):\n",
        "  with open(file_name, 'r') as f:\n",
        "    text = f.read()\n",
        "    for i in \",;.!?—\":\n",
        "      text = text.replace(i, ' ')\n",
        "    words = text.split()\n",
        "    longest = max(words, key=len)\n",
        "  return longest\n"
      ],
      "metadata": {
        "id": "4hN-i5qeoD_s"
      },
      "execution_count": null,
      "outputs": []
    }
  ]
}